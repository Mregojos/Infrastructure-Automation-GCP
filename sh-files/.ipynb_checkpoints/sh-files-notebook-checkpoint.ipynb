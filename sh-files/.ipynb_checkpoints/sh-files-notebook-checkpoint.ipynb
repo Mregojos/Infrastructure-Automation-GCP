{
 "cells": [
  {
   "cell_type": "markdown",
   "id": "5b8c55f7-c619-42fa-9e06-afdffe449eac",
   "metadata": {},
   "source": [
    "# Automation using CLI "
   ]
  },
  {
   "cell_type": "markdown",
   "id": "abb4b270-b3ef-4854-995f-d548790aaab6",
   "metadata": {},
   "source": [
    "## Create a compute engine instance"
   ]
  },
  {
   "cell_type": "code",
   "execution_count": null,
   "id": "cc2465ca-aa04-49a2-bf89-1fe012f91285",
   "metadata": {
    "tags": []
   },
   "outputs": [],
   "source": [
    "# Environment Variables\n",
    "DB_NAME=\"db\"\n",
    "MACHINE_TYPE=\"e2-micro\"\n",
    "REGION=\"us-west1\"\n",
    "ZONE=\"us-west1-a\"\n",
    "BOOT_DISK_SIZE=\"30\"\n",
    "TAGS=\"db\"\n",
    "STATIC_IP_ADDRESS=\"\""
   ]
  },
  {
   "cell_type": "code",
   "execution_count": null,
   "id": "6a286260-db1c-471f-a33d-7b5df2daee36",
   "metadata": {
    "tags": []
   },
   "outputs": [],
   "source": [
    "# Create a static external ip address\n",
    "!gcloud compute addresses create db-static-ip-address --region $REGION"
   ]
  },
  {
   "cell_type": "code",
   "execution_count": null,
   "id": "17aac5ec-c9fa-4c10-8dd6-3686e2415736",
   "metadata": {
    "tags": []
   },
   "outputs": [],
   "source": [
    "%%writefile startup-script.txt\n",
    "# Environment\n",
    "export USER=\"matt\" # DB_NAME\n",
    "export DBPASSWORD=\"password\"\n",
    "\n",
    "# docs.docker.com\n",
    "curl -fsSL https://get.docker.com -o get-docker.sh\n",
    "sudo sh ./get-docker.sh\n",
    "sudo groupadd docker\n",
    "sudo usermod -aG docker $USER\n",
    "newgrp docker\n",
    "\n",
    "# Remove all running docker \n",
    "docker rm -f $(docker ps -aq)\n",
    "\n",
    "# Create a database \n",
    "docker run -d \\\n",
    "    --name postgres-sql \\\n",
    "    -e POSTGRES_USER=$USER \\\n",
    "    -e POSTGRES_PASSWORD=$DBPASSWORD \\\n",
    "    -v $(pwd)/data/:/var/lib/postgresql/data/ \\\n",
    "    -p 5000:5432 \\\n",
    "    postgres\n",
    "docker run -p 8000:80 \\\n",
    "    -e 'PGADMIN_DEFAULT_EMAIL=matt@example.com' \\\n",
    "    -e 'PGADMIN_DEFAULT_PASSWORD=password' \\\n",
    "    -d dpage/pgadmin4"
   ]
  },
  {
   "cell_type": "code",
   "execution_count": null,
   "id": "3249c76e-298d-43ba-8fae-55ec5016645b",
   "metadata": {
    "tags": []
   },
   "outputs": [],
   "source": [
    "!gcloud compute instances create $DB_NAME \\\n",
    "    --machine-type=$MACHINE_TYPE --zone=$ZONE --tags=$TAGS \\\n",
    "    --boot-disk-size=$BOOT_DISK_SIZE \\\n",
    "    --no-scopes --no-service-account \\\n",
    "    --metadata-from-file=startup-script=startup-script.txt \\\n",
    "    --network-interface=address=$STATIC_IP_ADDRESS"
   ]
  },
  {
   "cell_type": "code",
   "execution_count": null,
   "id": "e2f6b71d-dea7-4bf6-95ea-a4d526c22ad7",
   "metadata": {
    "tags": []
   },
   "outputs": [],
   "source": [
    "# Run in another terminal to run SSH to the instance\n",
    "!echo \"gcloud compute ssh --zone $ZONE $DB_NAME\""
   ]
  },
  {
   "cell_type": "code",
   "execution_count": null,
   "id": "15e91ad4-66fe-424c-8fae-4b209956b2bb",
   "metadata": {
    "tags": []
   },
   "outputs": [],
   "source": [
    "# Delete the instance\n",
    "!gcloud compute instances delete $DB_NAME --zone=$ZONE --quiet"
   ]
  },
  {
   "cell_type": "code",
   "execution_count": null,
   "id": "0f705d92-d894-4c20-a2d4-145e687b21c1",
   "metadata": {
    "tags": []
   },
   "outputs": [],
   "source": [
    "# !gcloud compute instances add-access-config $DB_NAME --zone=$ZONE --address=$STATIC_IP_ADDRESS"
   ]
  },
  {
   "cell_type": "markdown",
   "id": "a2f80621-2123-4a1a-a93a-5ecf24cc5aef",
   "metadata": {
    "tags": []
   },
   "source": [
    "##### Create a firewall (GCP)"
   ]
  },
  {
   "cell_type": "code",
   "execution_count": null,
   "id": "cbb7274e-ec9c-4d27-b862-31747e598fe9",
   "metadata": {
    "tags": []
   },
   "outputs": [],
   "source": [
    "!gcloud compute --project=$(gcloud config get project) firewall-rules create ports \\\n",
    "    --direction=INGRESS --priority=1000 --network=default --action=ALLOW --rules=tcp:5000,tcp:8000,tcp:8501,tcp:9000 --source-ranges=0.0.0.0/0 \\\n",
    "    --target-tags=$TAGS"
   ]
  },
  {
   "cell_type": "markdown",
   "id": "cb098b0a-51b9-41a9-9904-b5ca5cca4bc0",
   "metadata": {},
   "source": [
    "## Build, Release, and Deploy"
   ]
  },
  {
   "cell_type": "code",
   "execution_count": null,
   "id": "76481878-5971-4907-97f1-e7532ea12fb8",
   "metadata": {
    "tags": []
   },
   "outputs": [],
   "source": [
    "# Enable Artifact Registry, Cloud Build, and Cloud Run, Vertex AI\n",
    "# !gcloud services list --available\n",
    "!gcloud services enable cloudbuild.googleapis.com artifactregistry.googleapis.com run.googleapis.com aiplatform.googleapis.com "
   ]
  },
  {
   "cell_type": "markdown",
   "id": "25effec3-a549-45dd-be10-4fbbc960dc87",
   "metadata": {},
   "source": [
    "#### Create an Artifact Registry"
   ]
  },
  {
   "cell_type": "code",
   "execution_count": null,
   "id": "6ddb7fdd-5768-4390-bb7d-64ce6f29e031",
   "metadata": {
    "tags": []
   },
   "outputs": [],
   "source": [
    "# Environment Variables For Artifact Registry and Cloud Build\n",
    "REGION=\"us-west1\"\n",
    "CLOUD_BUILD_REGION=\"us-west2\"\n",
    "APP_ARTIFACT_NAME=\"app\"\n",
    "APP_NAME=\"app\"\n",
    "APP_VERSION=\"latest\"\n",
    "# import os\n",
    "# os.environ['REGION']=REGION\n",
    "# os.environ[\"APP_ARTIFACT_NAME\"]=APP_ARTIFACT_NAME\n",
    "# os.environ[\"APP_NAME\"]=APP_NAME\n",
    "# os.environ[\"APP_VERSION\"]=APP_VERSION"
   ]
  },
  {
   "cell_type": "code",
   "execution_count": null,
   "id": "57be8a14-e75a-4236-a85f-b0e1df0e59e5",
   "metadata": {
    "tags": []
   },
   "outputs": [],
   "source": [
    "# Create a Docker repository in Artifact Registry\n",
    "!gcloud artifacts repositories create $APP_ARTIFACT_NAME \\\n",
    "    --repository-format=docker \\\n",
    "    --location=$REGION \\\n",
    "    --description=\"Docker repository\""
   ]
  },
  {
   "cell_type": "code",
   "execution_count": null,
   "id": "17bbbb2a-d0d3-4ebc-abf1-786a4fafa959",
   "metadata": {
    "tags": []
   },
   "outputs": [],
   "source": [
    "# Verify\n",
    "!gcloud artifacts repositories list"
   ]
  },
  {
   "cell_type": "markdown",
   "id": "ecce4381-9835-4e15-9906-b6097426f60a",
   "metadata": {
    "tags": []
   },
   "source": [
    "#### Build an image using Dockerfile and submit to Artifact Registry"
   ]
  },
  {
   "cell_type": "code",
   "execution_count": null,
   "id": "a9d8869f-a516-4606-bc1e-c6706249a131",
   "metadata": {
    "tags": []
   },
   "outputs": [],
   "source": [
    "# Check if the path is correct\n",
    "!pwd"
   ]
  },
  {
   "cell_type": "code",
   "execution_count": null,
   "id": "291b64c7-82b7-440b-b177-1797126e07ac",
   "metadata": {
    "tags": []
   },
   "outputs": [],
   "source": [
    "cd .."
   ]
  },
  {
   "cell_type": "code",
   "execution_count": null,
   "id": "bcba4d8d-f0cb-4050-83a4-0f8f54c5c7d5",
   "metadata": {
    "tags": []
   },
   "outputs": [],
   "source": [
    "cd app"
   ]
  },
  {
   "cell_type": "code",
   "execution_count": null,
   "id": "8cc8e7f4-950c-457a-992b-27cb574b34fc",
   "metadata": {
    "tags": []
   },
   "outputs": [],
   "source": [
    "!gcloud builds submit \\\n",
    "    --region=$CLOUD_BUILD_REGION \\\n",
    "    --tag $REGION-docker.pkg.dev/$(gcloud config get-value project)/$APP_NAME/$APP_NAME:$APP_VERSION"
   ]
  },
  {
   "cell_type": "code",
   "execution_count": null,
   "id": "401cc637-b8bf-4ab3-ba34-eb34daa99dd3",
   "metadata": {},
   "outputs": [],
   "source": [
    "# For Cloud Run Deploy, use a Service Account with Cloud Run Admin or Cloud Run Developer\n",
    "# For Clou Run Deployed Add (Service), use a Service Account with Vertex AI User"
   ]
  },
  {
   "cell_type": "code",
   "execution_count": null,
   "id": "8141d0c4-9345-4170-9d72-932505a4c75a",
   "metadata": {
    "tags": []
   },
   "outputs": [],
   "source": [
    "!gcloud iam service-accounts create app-service-account"
   ]
  },
  {
   "cell_type": "code",
   "execution_count": null,
   "id": "0ca9ecb9-40b3-4058-b859-0375ce20ca63",
   "metadata": {},
   "outputs": [],
   "source": [
    "# !gcloud iam service-accounts create app-service-account"
   ]
  },
  {
   "cell_type": "code",
   "execution_count": null,
   "id": "4c82797d-5fbf-4152-955e-52f903038a77",
   "metadata": {},
   "outputs": [],
   "source": [
    "# DB Credentials"
   ]
  },
  {
   "cell_type": "code",
   "execution_count": null,
   "id": "fd2d5759-08ae-4b1e-bdfb-53b853ed2695",
   "metadata": {
    "tags": []
   },
   "outputs": [],
   "source": [
    "%%writefile env.yaml\n",
    "DBNAME:\n",
    "    \"matt\"\n",
    "USER:\n",
    "    \"matt\"\n",
    "HOST:\n",
    "    \"\"\n",
    "DBPORT:\n",
    "    \"5000\"\n",
    "DBPASSWORD:\n",
    "    \"password\"\n",
    "PROJECT_NAME:\n",
    "    \"\""
   ]
  },
  {
   "cell_type": "code",
   "execution_count": null,
   "id": "33734975-5df6-4b9d-96df-f5634197b9bd",
   "metadata": {
    "tags": []
   },
   "outputs": [],
   "source": [
    "cd ~/ci-cd-gcp/files"
   ]
  },
  {
   "cell_type": "code",
   "execution_count": null,
   "id": "fc22768e-8d65-4dfa-ae99-112ad9c93422",
   "metadata": {
    "tags": []
   },
   "outputs": [],
   "source": [
    "!gcloud run deploy app \\\n",
    "    --max-instances=1 --min-instances=0 --port=9000 \\\n",
    "    --env-vars-file=env.yaml \\\n",
    "    --image=us-central1-docker.pkg.dev/matt-0706/app/app:latest \\\n",
    "    --allow-unauthenticated \\\n",
    "    --region=us-central1"
   ]
  },
  {
   "cell_type": "code",
   "execution_count": null,
   "id": "2250d312-7542-483a-b8e8-5e96b7c3f14d",
   "metadata": {
    "tags": []
   },
   "outputs": [],
   "source": [
    "!gcloud run services list"
   ]
  }
 ],
 "metadata": {
  "environment": {
   "kernel": "python3",
   "name": "tf2-cpu.2-11.m113",
   "type": "gcloud",
   "uri": "gcr.io/deeplearning-platform-release/tf2-cpu.2-11:m113"
  },
  "kernelspec": {
   "display_name": "Python 3",
   "language": "python",
   "name": "python3"
  },
  "language_info": {
   "codemirror_mode": {
    "name": "ipython",
    "version": 3
   },
   "file_extension": ".py",
   "mimetype": "text/x-python",
   "name": "python",
   "nbconvert_exporter": "python",
   "pygments_lexer": "ipython3",
   "version": "3.10.13"
  }
 },
 "nbformat": 4,
 "nbformat_minor": 5
}
