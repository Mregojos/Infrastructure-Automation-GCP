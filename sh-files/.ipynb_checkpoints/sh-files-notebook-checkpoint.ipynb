{
 "cells": [
  {
   "cell_type": "markdown",
   "id": "5b8c55f7-c619-42fa-9e06-afdffe449eac",
   "metadata": {},
   "source": [
    "# sh-files"
   ]
  },
  {
   "cell_type": "markdown",
   "id": "abb4b270-b3ef-4854-995f-d548790aaab6",
   "metadata": {},
   "source": [
    "# Create a compute engine instance"
   ]
  },
  {
   "cell_type": "code",
   "execution_count": null,
   "id": "cc2465ca-aa04-49a2-bf89-1fe012f91285",
   "metadata": {},
   "outputs": [],
   "source": [
    "# Environment Variables\n",
    "DB_NAME=\"db\"\n",
    "MACHINE_TYPE=\"\"\n",
    "ZONE=\"us-west-a\"\n",
    "BOOT_DISK_SIZE=\"\""
   ]
  },
  {
   "cell_type": "code",
   "execution_count": null,
   "id": "3249c76e-298d-43ba-8fae-55ec5016645b",
   "metadata": {
    "tags": []
   },
   "outputs": [],
   "source": [
    "!gcloud compute instances create db \\\n",
    "    --machine-type= --zone= \\\n",
    "    --boot-disk-size= \\\n",
    "    --no-scope --no-service-account"
   ]
  },
  {
   "cell_type": "code",
   "execution_count": null,
   "id": "8abbb391-06f6-40ae-9343-c34b3aeb95e0",
   "metadata": {},
   "outputs": [],
   "source": []
  }
 ],
 "metadata": {
  "environment": {
   "kernel": "python3",
   "name": "tf2-cpu.2-11.m113",
   "type": "gcloud",
   "uri": "gcr.io/deeplearning-platform-release/tf2-cpu.2-11:m113"
  },
  "kernelspec": {
   "display_name": "Python 3",
   "language": "python",
   "name": "python3"
  },
  "language_info": {
   "codemirror_mode": {
    "name": "ipython",
    "version": 3
   },
   "file_extension": ".py",
   "mimetype": "text/x-python",
   "name": "python",
   "nbconvert_exporter": "python",
   "pygments_lexer": "ipython3",
   "version": "3.10.13"
  }
 },
 "nbformat": 4,
 "nbformat_minor": 5
}
