{
 "cells": [
  {
   "cell_type": "markdown",
   "id": "5b8c55f7-c619-42fa-9e06-afdffe449eac",
   "metadata": {},
   "source": [
    "# sh-files"
   ]
  },
  {
   "cell_type": "code",
   "execution_count": null,
   "id": "1b6c36c8-bde5-408b-9ae3-09ba4e70adbd",
   "metadata": {},
   "outputs": [],
   "source": []
  }
 ],
 "metadata": {
  "environment": {
   "kernel": "python3",
   "name": "tf2-cpu.2-11.m113",
   "type": "gcloud",
   "uri": "gcr.io/deeplearning-platform-release/tf2-cpu.2-11:m113"
  },
  "kernelspec": {
   "display_name": "Python 3",
   "language": "python",
   "name": "python3"
  },
  "language_info": {
   "codemirror_mode": {
    "name": "ipython",
    "version": 3
   },
   "file_extension": ".py",
   "mimetype": "text/x-python",
   "name": "python",
   "nbconvert_exporter": "python",
   "pygments_lexer": "ipython3",
   "version": "3.10.13"
  }
 },
 "nbformat": 4,
 "nbformat_minor": 5
}
