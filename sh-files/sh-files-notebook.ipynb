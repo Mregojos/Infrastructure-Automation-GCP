{
 "cells": [
  {
   "cell_type": "markdown",
   "id": "5b8c55f7-c619-42fa-9e06-afdffe449eac",
   "metadata": {},
   "source": [
    "# sh-files"
   ]
  },
  {
   "cell_type": "markdown",
   "id": "abb4b270-b3ef-4854-995f-d548790aaab6",
   "metadata": {},
   "source": [
    "# Create a compute engine instance"
   ]
  },
  {
   "cell_type": "code",
   "execution_count": null,
   "id": "cc2465ca-aa04-49a2-bf89-1fe012f91285",
   "metadata": {
    "tags": []
   },
   "outputs": [],
   "source": [
    "# Environment Variables\n",
    "DB_NAME=\"db\"\n",
    "MACHINE_TYPE=\"e2-micro\"\n",
    "ZONE=\"us-west1-a\"\n",
    "BOOT_DISK_SIZE=\"30\"\n",
    "TAGS=\"db\""
   ]
  },
  {
   "cell_type": "code",
   "execution_count": null,
   "id": "17aac5ec-c9fa-4c10-8dd6-3686e2415736",
   "metadata": {
    "tags": []
   },
   "outputs": [],
   "source": [
    "%%writefile startup-script.txt\n",
    "touch README.md\n",
    "echo \"FILE\" > README.md"
   ]
  },
  {
   "cell_type": "code",
   "execution_count": null,
   "id": "3249c76e-298d-43ba-8fae-55ec5016645b",
   "metadata": {
    "tags": []
   },
   "outputs": [],
   "source": [
    "!gcloud compute instances create $DB_NAME \\\n",
    "    --machine-type=$MACHINE_TYPE --zone=$ZONE --tags=$TAGS \\\n",
    "    --boot-disk-size=$BOOT_DISK_SIZE \\\n",
    "    --no-scopes --no-service-account \\\n",
    "    --metadata-from-file=startup-script=startup-script.txt    "
   ]
  },
  {
   "cell_type": "code",
   "execution_count": null,
   "id": "e2f6b71d-dea7-4bf6-95ea-a4d526c22ad7",
   "metadata": {
    "tags": []
   },
   "outputs": [],
   "source": [
    "# Run in another terminal to run SSH to the instance\n",
    "!echo \"gcloud compute ssh --zone $ZONE $DB_NAME\""
   ]
  },
  {
   "cell_type": "code",
   "execution_count": null,
   "id": "15e91ad4-66fe-424c-8fae-4b209956b2bb",
   "metadata": {
    "tags": []
   },
   "outputs": [],
   "source": [
    "# Uninstall the instance\n",
    "# !gcloud compute instances delete $DB_NAME --zone=$ZONE --quiet"
   ]
  },
  {
   "cell_type": "code",
   "execution_count": null,
   "id": "54022561-716e-4965-b49a-37d7b399f8ce",
   "metadata": {},
   "outputs": [],
   "source": [
    "# Install Docker on the instance"
   ]
  }
 ],
 "metadata": {
  "environment": {
   "kernel": "python3",
   "name": "tf2-cpu.2-11.m113",
   "type": "gcloud",
   "uri": "gcr.io/deeplearning-platform-release/tf2-cpu.2-11:m113"
  },
  "kernelspec": {
   "display_name": "Python 3",
   "language": "python",
   "name": "python3"
  },
  "language_info": {
   "codemirror_mode": {
    "name": "ipython",
    "version": 3
   },
   "file_extension": ".py",
   "mimetype": "text/x-python",
   "name": "python",
   "nbconvert_exporter": "python",
   "pygments_lexer": "ipython3",
   "version": "3.10.13"
  }
 },
 "nbformat": 4,
 "nbformat_minor": 5
}
