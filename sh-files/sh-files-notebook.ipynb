{
 "cells": [
  {
   "cell_type": "markdown",
   "id": "5b8c55f7-c619-42fa-9e06-afdffe449eac",
   "metadata": {},
   "source": [
    "# Automation using CLI "
   ]
  },
  {
   "cell_type": "markdown",
   "id": "abb4b270-b3ef-4854-995f-d548790aaab6",
   "metadata": {},
   "source": [
    "## Create a compute engine instance"
   ]
  },
  {
   "cell_type": "code",
   "execution_count": null,
   "id": "cc2465ca-aa04-49a2-bf89-1fe012f91285",
   "metadata": {
    "tags": []
   },
   "outputs": [],
   "source": [
    "# Environment Variables\n",
    "DB_NAME=\"db\"\n",
    "MACHINE_TYPE=\"e2-micro\"\n",
    "REGION=\"us-west1\"\n",
    "ZONE=\"us-west1-a\"\n",
    "BOOT_DISK_SIZE=\"30\"\n",
    "TAGS=\"db\"\n",
    "STATIC_IP_ADDRESS=\"\""
   ]
  },
  {
   "cell_type": "code",
   "execution_count": null,
   "id": "17aac5ec-c9fa-4c10-8dd6-3686e2415736",
   "metadata": {
    "tags": []
   },
   "outputs": [],
   "source": [
    "%%writefile startup-script.txt\n",
    "# Environment\n",
    "export USER=\"matt\" # DB_NAME\n",
    "export DBPASSWORD=\"password\"\n",
    "\n",
    "# docs.docker.com\n",
    "curl -fsSL https://get.docker.com -o get-docker.sh\n",
    "sudo sh ./get-docker.sh\n",
    "sudo groupadd docker\n",
    "sudo usermod -aG docker $USER\n",
    "newgrp docker\n",
    "\n",
    "# Create a database \n",
    "docker run -d \\\n",
    "    --name postgres-sql \\\n",
    "    -e POSTGRES_USER=$USER \\\n",
    "    -e POSTGRES_PASSWORD=$DBPASSWORD \\\n",
    "    -v $(pwd)/data/:/var/lib/postgresql/data/ \\\n",
    "    -p 5000:5432 \\\n",
    "    postgres\n",
    "docker run -p 8000:80 \\\n",
    "    -e 'PGADMIN_DEFAULT_EMAIL=matt@example.com' \\\n",
    "    -e 'PGADMIN_DEFAULT_PASSWORD=password' \\\n",
    "    -d dpage/pgadmin4"
   ]
  },
  {
   "cell_type": "code",
   "execution_count": null,
   "id": "3249c76e-298d-43ba-8fae-55ec5016645b",
   "metadata": {
    "tags": []
   },
   "outputs": [],
   "source": [
    "!gcloud compute instances create $DB_NAME \\\n",
    "    --machine-type=$MACHINE_TYPE --zone=$ZONE --tags=$TAGS \\\n",
    "    --boot-disk-size=$BOOT_DISK_SIZE \\\n",
    "    --no-scopes --no-service-account \\\n",
    "    --metadata-from-file=startup-script=startup-script.txt    "
   ]
  },
  {
   "cell_type": "code",
   "execution_count": null,
   "id": "e2f6b71d-dea7-4bf6-95ea-a4d526c22ad7",
   "metadata": {
    "tags": []
   },
   "outputs": [],
   "source": [
    "# Run in another terminal to run SSH to the instance\n",
    "!echo \"gcloud compute ssh --zone $ZONE $DB_NAME\""
   ]
  },
  {
   "cell_type": "code",
   "execution_count": null,
   "id": "15e91ad4-66fe-424c-8fae-4b209956b2bb",
   "metadata": {
    "tags": []
   },
   "outputs": [],
   "source": [
    "# Uninstall the instance\n",
    "# !gcloud compute instances delete $DB_NAME --zone=$ZONE --quiet"
   ]
  },
  {
   "cell_type": "code",
   "execution_count": null,
   "id": "6a286260-db1c-471f-a33d-7b5df2daee36",
   "metadata": {},
   "outputs": [],
   "source": [
    "# Create a static external ip address\n",
    "!gcloud compute addresses create db-static-ip-address --region $REGION"
   ]
  },
  {
   "cell_type": "code",
   "execution_count": null,
   "id": "0f705d92-d894-4c20-a2d4-145e687b21c1",
   "metadata": {},
   "outputs": [],
   "source": [
    "!gcloud compute instances add-access-config $DB_NAME --zone $ZONE --address $STATIC_IP_ADDRESS"
   ]
  },
  {
   "cell_type": "markdown",
   "id": "cb098b0a-51b9-41a9-9904-b5ca5cca4bc0",
   "metadata": {},
   "source": [
    "## Build, Release, and Deploy"
   ]
  },
  {
   "cell_type": "code",
   "execution_count": null,
   "id": "4c82797d-5fbf-4152-955e-52f903038a77",
   "metadata": {},
   "outputs": [],
   "source": [
    "# Data Credentials"
   ]
  },
  {
   "cell_type": "code",
   "execution_count": null,
   "id": "ff9a0304-0bdf-436c-8c45-e2145436a1e3",
   "metadata": {},
   "outputs": [],
   "source": []
  }
 ],
 "metadata": {
  "environment": {
   "kernel": "python3",
   "name": "tf2-cpu.2-11.m113",
   "type": "gcloud",
   "uri": "gcr.io/deeplearning-platform-release/tf2-cpu.2-11:m113"
  },
  "kernelspec": {
   "display_name": "Python 3",
   "language": "python",
   "name": "python3"
  },
  "language_info": {
   "codemirror_mode": {
    "name": "ipython",
    "version": 3
   },
   "file_extension": ".py",
   "mimetype": "text/x-python",
   "name": "python",
   "nbconvert_exporter": "python",
   "pygments_lexer": "ipython3",
   "version": "3.10.13"
  }
 },
 "nbformat": 4,
 "nbformat_minor": 5
}
