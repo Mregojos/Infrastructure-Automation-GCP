{
 "cells": [
  {
   "cell_type": "markdown",
   "id": "b08a8510-c791-4473-a80c-e3baf409de54",
   "metadata": {},
   "source": [
    "# tf-files"
   ]
  },
  {
   "cell_type": "code",
   "execution_count": null,
   "id": "e2908b91-96a5-43c0-9ac8-a304bcf77cf1",
   "metadata": {},
   "outputs": [],
   "source": []
  }
 ],
 "metadata": {
  "environment": {
   "kernel": "python3",
   "name": "tf2-cpu.2-11.m113",
   "type": "gcloud",
   "uri": "gcr.io/deeplearning-platform-release/tf2-cpu.2-11:m113"
  },
  "kernelspec": {
   "display_name": "Python 3",
   "language": "python",
   "name": "python3"
  },
  "language_info": {
   "codemirror_mode": {
    "name": "ipython",
    "version": 3
   },
   "file_extension": ".py",
   "mimetype": "text/x-python",
   "name": "python",
   "nbconvert_exporter": "python",
   "pygments_lexer": "ipython3",
   "version": "3.10.13"
  }
 },
 "nbformat": 4,
 "nbformat_minor": 5
}
