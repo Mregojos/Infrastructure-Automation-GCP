{
 "cells": [
  {
   "cell_type": "markdown",
   "id": "02a99993-3138-4745-82f9-57cf85144b3e",
   "metadata": {},
   "source": [
    "# App Dev\n",
    "\n",
    "* From: ci-cd-gcp rerpo (CI/CD on GCP Notebook)"
   ]
  },
  {
   "cell_type": "markdown",
   "id": "700fccb3-2324-4738-bbcc-806aeb7ae5e7",
   "metadata": {
    "tags": []
   },
   "source": [
    "### Coding Stage"
   ]
  },
  {
   "cell_type": "markdown",
   "id": "ec797ebc-44f6-4e72-8988-6d53635028c0",
   "metadata": {
    "tags": []
   },
   "source": [
    "#### Directory"
   ]
  },
  {
   "cell_type": "code",
   "execution_count": null,
   "id": "2dbb939b-2f86-4f39-abbb-cc0d702f6954",
   "metadata": {},
   "outputs": [],
   "source": [
    "!mkdir app"
   ]
  },
  {
   "cell_type": "code",
   "execution_count": null,
   "id": "15fe57bc-a71c-4b76-a75c-c7471813eef8",
   "metadata": {
    "tags": []
   },
   "outputs": [],
   "source": [
    "cd app"
   ]
  },
  {
   "cell_type": "markdown",
   "id": "3bbdb5e1-f91b-4117-908b-48f51d67c452",
   "metadata": {
    "tags": []
   },
   "source": [
    "#### Database"
   ]
  },
  {
   "cell_type": "markdown",
   "id": "f45d4cfa-ccac-412c-9b3a-35647de38c0d",
   "metadata": {
    "tags": []
   },
   "source": [
    "##### Postgres Docker"
   ]
  },
  {
   "cell_type": "code",
   "execution_count": null,
   "id": "9c0cda68-9558-4284-9c1f-2de0c57b0d29",
   "metadata": {},
   "outputs": [],
   "source": [
    "# Without volume/data connected\n",
    "# !docker run --name postgres-sql -e POSTGRES_USER=matt -e POSTGRES_PASSWORD=password  -d postgres"
   ]
  },
  {
   "cell_type": "code",
   "execution_count": null,
   "id": "0ebfc755-7e2a-4635-9c1f-1bc346304793",
   "metadata": {
    "tags": []
   },
   "outputs": [],
   "source": [
    "# With volume/data connected\n",
    "!docker run -d \\\n",
    "    --name postgres-sql \\\n",
    "    -e POSTGRES_USER=matt \\\n",
    "    -e POSTGRES_PASSWORD=password \\\n",
    "    -v $(pwd)/data/:/var/lib/postgresql/data/ \\\n",
    "    -p 5000:5432 \\\n",
    "    postgres"
   ]
  },
  {
   "cell_type": "code",
   "execution_count": null,
   "id": "7adc75ac-b077-4e0d-b895-af9ad9bc52a1",
   "metadata": {},
   "outputs": [],
   "source": [
    "!docker ps"
   ]
  },
  {
   "cell_type": "code",
   "execution_count": null,
   "id": "75c50c04-aacf-4e26-841b-cf256f75479b",
   "metadata": {},
   "outputs": [],
   "source": [
    "!ls -a"
   ]
  },
  {
   "cell_type": "raw",
   "id": "432937e7-d0b8-449a-93e5-925632f1a878",
   "metadata": {},
   "source": [
    "# Check the data\n",
    "# In a terminal\n",
    "# sudo su\n",
    "# cd $(pwd)/data/\n",
    "# ls -a"
   ]
  },
  {
   "cell_type": "raw",
   "id": "be50bf87-453c-46d2-816c-a6acba47bbdf",
   "metadata": {},
   "source": [
    "# Test the data of the DB\n",
    "# docker rm -f <CONTAINER_ID>\n",
    "# run the docker run <...>\n",
    "# check the pgAdmin\n",
    "# the data persists"
   ]
  },
  {
   "cell_type": "markdown",
   "id": "8e13e36c-9e77-4308-a4b2-c46119128c4e",
   "metadata": {
    "tags": []
   },
   "source": [
    "##### pgAdmin"
   ]
  },
  {
   "cell_type": "code",
   "execution_count": null,
   "id": "4ea411f9-57eb-44a5-af5c-9d97b117efb0",
   "metadata": {
    "tags": []
   },
   "outputs": [],
   "source": [
    "!docker run -p 8000:80 \\\n",
    "    -e 'PGADMIN_DEFAULT_EMAIL=matt@example.com' \\\n",
    "    -e 'PGADMIN_DEFAULT_PASSWORD=password' \\\n",
    "    -d dpage/pgadmin4"
   ]
  },
  {
   "cell_type": "code",
   "execution_count": null,
   "id": "e01d0392-b0fe-43d8-80df-67de1747db77",
   "metadata": {},
   "outputs": [],
   "source": [
    "!docker ps"
   ]
  },
  {
   "cell_type": "markdown",
   "id": "87b93157-6a80-49c8-b698-28cbee294405",
   "metadata": {
    "tags": []
   },
   "source": [
    "##### Create a firewall (GCP)"
   ]
  },
  {
   "cell_type": "code",
   "execution_count": null,
   "id": "cbb7274e-ec9c-4d27-b862-31747e598fe9",
   "metadata": {
    "tags": []
   },
   "outputs": [],
   "source": [
    "!gcloud compute --project=$(gcloud config get project) firewall-rules create ports \\\n",
    "    --direction=INGRESS --priority=1000 --network=default --action=ALLOW --rules=tcp:5000,tcp:8000,tcp:8501,tcp:9000 --source-ranges=0.0.0.0/0"
   ]
  },
  {
   "cell_type": "raw",
   "id": "449303cc-680d-42c7-9ae1-cf44c846df77",
   "metadata": {
    "tags": []
   },
   "source": [
    "##### Open pgAdmin Browser"
   ]
  },
  {
   "cell_type": "raw",
   "id": "04bea50d-7274-49b4-90b8-cafdfeb0e95d",
   "metadata": {},
   "source": [
    "# http://<IP_ADDRESS>:<PORT>\n",
    "# Login with credentials\n",
    "\n",
    "# Register Server\n",
    "# HOST: <IP_ADDRESS>\n",
    "# PORT: 5000\n",
    "# USER: <POSTGRES_USER>\n",
    "# PASSWORD: <PASSWORD>"
   ]
  },
  {
   "cell_type": "markdown",
   "id": "2bb44408-2763-4eef-8425-0194fafdb4c6",
   "metadata": {
    "jp-MarkdownHeadingCollapsed": true,
    "tags": []
   },
   "source": [
    "#### Application"
   ]
  },
  {
   "cell_type": "raw",
   "id": "0c8681c8-493e-4069-a69a-baade79b6ac5",
   "metadata": {},
   "source": [
    "# DB Credentials\n",
    "DBNAME=\"matt\"\n",
    "USER='matt'\n",
    "HOST= ''\n",
    "DBPORT='5000'\n",
    "DBPASSWORD='password'\n",
    "PROJECT_NAME=''"
   ]
  },
  {
   "cell_type": "raw",
   "id": "b06f634f-6c1a-47ce-97f4-ebabf2cf8096",
   "metadata": {
    "jupyter": {
     "source_hidden": true
    },
    "tags": []
   },
   "source": [
    "%%writefile app.py\n",
    "# Deployment\n",
    "# Import libraries\n",
    "import streamlit as st\n",
    "import psycopg2\n",
    "import os\n",
    "import time\n",
    "import vertexai\n",
    "from vertexai.language_models import TextGenerationModel\n",
    "# from env import *\n",
    "\n",
    "# Database Credentials\n",
    "DBNAME=os.getenv(\"DBNAME\")\n",
    "USER=os.getenv(\"USER\")\n",
    "HOST= os.getenv(\"HOST\")\n",
    "DBPORT=os.getenv(\"DBPORT\")\n",
    "DBPASSWORD=os.getenv(\"DBPASSWORD\")\n",
    "# Cloud\n",
    "PROJECT_NAME=os.getenv(\"PROJECT_NAME\")\n",
    "\n",
    "#----------Page Configuration----------# \n",
    "st.set_page_config(page_title=\"Matt Cloud Tech\",\n",
    "                   page_icon=\":cloud:\",\n",
    "                   menu_items={\n",
    "                       'About':\"# Matt Cloud Tech\"})\n",
    "\n",
    "#----------About Me Section----------#\n",
    "st.title(\":cloud: Matt Cloud Tech\")\n",
    "st.header(\"\", divider=\"rainbow\")\n",
    "\n",
    "st.write(\"\"\"\n",
    "        ### Good day :wave:.\n",
    "        ### My name is :blue[Matt]. I am a Cloud Technology Enthusiast. :technologist:\n",
    "        ### Currently, I am learning and building Cloud Infrastructure, Data and CI/CD Pipelines, and Intelligent Systems. \n",
    "        \"\"\") \n",
    "# st.divider()\n",
    "#----------End of About Me Section----------#\n",
    "\n",
    "#----------Portfolio Section----------#\n",
    "with st.expander(' :notebook: Portfolio'):\n",
    "    # Connect to a database\n",
    "    con = psycopg2.connect(f\"\"\"\n",
    "                           dbname={DBNAME}\n",
    "                           user={USER}\n",
    "                           host={HOST}\n",
    "                           port={DBPORT}\n",
    "                           password={DBPASSWORD}\n",
    "                           \"\"\")\n",
    "    cur = con.cursor()\n",
    "\n",
    "    # Create a table if not exists\n",
    "    cur.execute(\"CREATE TABLE IF NOT EXISTS portfolio(id serial PRIMARY KEY, project_name varchar, description varchar, link varchar)\")\n",
    "    con.commit()    \n",
    "    st.write(\"### Project Collection\")\n",
    "    cur.execute(\"\"\"\n",
    "                SELECT * \n",
    "                FROM portfolio\n",
    "                \"\"\")\n",
    "    for id, project_name, description, link in cur.fetchall():\n",
    "        st.write(f\"### [{project_name}]({link})\")\n",
    "        st.write(f\"{description}\")\n",
    "        st.divider()\n",
    "    \n",
    "    # Add new project\n",
    "    add = st.checkbox(\"Modify\")\n",
    "    if add:\n",
    "        password = st.text_input(\"Password\", type=\"password\")\n",
    "        if password == DBPASSWORD:\n",
    "            modify = st.text_input(\"Add or Delete\")\n",
    "            if modify == \"Add\":\n",
    "                project_name = st.text_input(\"Project Name\")\n",
    "                description = st.text_input(\"Description\")\n",
    "                link = st.text_input(\"Link\")\n",
    "                ### Insert into adatabase\n",
    "                save = st.button(\"Save\")\n",
    "                if save:\n",
    "                    SQL = \"INSERT INTO portfolio (project_name, description, link) VALUES(%s, %s, %s);\"\n",
    "                    data = (project_name, description, link)\n",
    "                    cur.execute(SQL, data)\n",
    "                    con.commit()\n",
    "                    st.write(\"Successfully Added.\")\n",
    "                    st.button(\":blue[Done]\")\n",
    "            elif modify == \"Delete\":\n",
    "                project_name = st.text_input(\"Project Name\")\n",
    "                delete = st.button(\"Delete\")\n",
    "                if delete:\n",
    "                    cur.execute(f\"DELETE FROM portfolio WHERE project_name = '{project_name}';\")\n",
    "                    # SQL = \"DELETE FROM portfolio WHERE project_name = %s;\"\n",
    "                    # data = (project_name)\n",
    "                    # cur.execute(SQL, data)\n",
    "                    con.commit()\n",
    "                    st.success(\"Successfully Deleted.\")\n",
    "                    st.button(\":blue[Done]\")\n",
    "            \n",
    "#----------End of Portfolio Section----------#\n",
    "\n",
    "#----------Notepad Section----------#\n",
    "with st.expander(' :pencil: Notepad'):\n",
    "    st.header(\" :pencil: Notepad\",divider=\"rainbow\")\n",
    "    st.caption(\"\"\"\n",
    "                Add your thoughts here. It will be stored in a database. \\n\n",
    "                :warning: :red[Do not add sensitive data.]\n",
    "                \"\"\")\n",
    "    # Connect to a database\n",
    "    con = psycopg2.connect(f\"\"\"\n",
    "                           dbname={DBNAME}\n",
    "                           user={USER}\n",
    "                           host={HOST}\n",
    "                           port={DBPORT}\n",
    "                           password={DBPASSWORD}\n",
    "                           \"\"\")\n",
    "    cur = con.cursor()\n",
    "\n",
    "    # Create a table if not exists\n",
    "    cur.execute(\"CREATE TABLE IF NOT EXISTS notes(id serial PRIMARY KEY, name varchar, header varchar, note varchar, time varchar)\")\n",
    "    con.commit()\n",
    "\n",
    "    # Inputs\n",
    "    name = st.text_input(\"Your Name\")\n",
    "    header = st.text_input(\"Header\")\n",
    "    note = st.text_area(\"Note\")\n",
    "    if st.button(\"Add a note\"):\n",
    "        time = time.strftime(\"Date: %Y-%m-%d | Time: %H:%M:%S UTC\")\n",
    "        st.write(f\"\"\" \\n\n",
    "                ##### :pencil: {header} \\n\n",
    "                #### {note} \\n\n",
    "                :man: {name} \\n\"\"\")\n",
    "        st.caption(f\":watch: {time}\")\n",
    "        st.success(\"Successfully Added.\")\n",
    "        # st.balloons()\n",
    "        ### Insert into adatabase\n",
    "        SQL = \"INSERT INTO notes (name, header, note, time) VALUES(%s, %s, %s, %s);\"\n",
    "        data = (name, header, note, time)\n",
    "        cur.execute(SQL, data)\n",
    "        con.commit()\n",
    "\n",
    "    # Previous Notes \n",
    "    st.divider()\n",
    "    notes = st.checkbox(\"See previous notes\")\n",
    "    if notes:\n",
    "        st.write(\"### **:gray[Previous Notes]**\")\n",
    "        cur.execute(\"\"\"\n",
    "                    SELECT * \n",
    "                    FROM notes\n",
    "                    ORDER BY time DESC\n",
    "                    \"\"\")\n",
    "        for id, name, header, note, time in cur.fetchall():\n",
    "            st.write(f\"\"\" \\n\n",
    "                    ##### :pencil: {header} \\n\n",
    "                    #### {note} \\n\n",
    "                    :man: {name} \\n\"\"\")\n",
    "            st.caption(f\":watch: {time}\")\n",
    "\n",
    "            modify = st.toggle(f\"Edit or Delete (ID #: {id})\")\n",
    "            if modify:\n",
    "                name = st.text_input(f\"Your Name (ID #: {id})\", name)\n",
    "                header = st.text_input(f\"Header (ID #: {id})\", header)\n",
    "                note = st.text_area(f\"Note (ID #: {id})\", note)\n",
    "                if st.button(f\"UPDATE ID #: {id}\"):\n",
    "                    SQL = \" UPDATE notes SET id=%s, name=%s, header=%s, note=%s WHERE id = %s\"\n",
    "                    data = (id, name, header, note, id)\n",
    "                    cur.execute(SQL, data)\n",
    "                    con.commit()\n",
    "                    st.success(\"Successfully Edited.\")\n",
    "                    st.button(\":blue[Done]\")\n",
    "                if st.button(f\"DELETE ID #: {id}\"):\n",
    "                    cur.execute(f\"DELETE FROM notes WHERE id = {id}\")\n",
    "                    # SQL = \"DELETE FROM notes WHERE id = <...>\"\n",
    "                    # data = (id)\n",
    "                    # cur.execute(SQL, data)\n",
    "                    con.commit()\n",
    "                    st.success(\"Successfully Deleted.\")\n",
    "                    st.button(\":blue[Done]\")\n",
    "            st.subheader(\"\",divider=\"gray\")\n",
    "\n",
    "    # Close Connection\n",
    "    cur.close()\n",
    "    con.close()\n",
    "#----------End of Notepad Section----------#\n",
    "\n",
    "#----------Counter----------#\n",
    "with st.expander(' :watch: Counter'):\n",
    "    st.header(\"Counter\")\n",
    "    st.caption(\"\"\"\n",
    "                Count every request in this app.\n",
    "                \"\"\")\n",
    "    st.subheader(\"\",divider=\"rainbow\")\n",
    "\n",
    "    con = psycopg2.connect(f\"\"\"\n",
    "                           dbname={DBNAME}\n",
    "                           user={USER}\n",
    "                           host={HOST}\n",
    "                           port={DBPORT}\n",
    "                           password={DBPASSWORD}\n",
    "                           \"\"\")\n",
    "    cur = con.cursor()\n",
    "    # Create a table if not exists\n",
    "    cur.execute(\"CREATE TABLE IF NOT EXISTS counter(id serial PRIMARY KEY, view int, time varchar)\")\n",
    "    con.commit()\n",
    "\n",
    "    # Counter\n",
    "    import time\n",
    "    time = time.strftime(\"Date: %Y-%m-%d | Time: %H:%M:%S UTC\")\n",
    "    view = 1\n",
    "    ### Insert into a database\n",
    "    SQL = \"INSERT INTO counter (view, time) VALUES(%s, %s);\"\n",
    "    data = (view, time)\n",
    "    cur.execute(SQL, data)\n",
    "    con.commit()\n",
    "\n",
    "    # Total views\n",
    "    cur.execute(\"\"\"\n",
    "                SELECT SUM(view) \n",
    "                FROM counter\n",
    "                \"\"\")\n",
    "    st.write(f\"#### Total views: **{cur.fetchone()[0]}**\")\n",
    "    # Current view\n",
    "    st.write(f\"Current: {time}\")\n",
    "    # Total views today\n",
    "    time_date = time[0:15]\n",
    "    cur.execute(f\"\"\"\n",
    "                SELECT SUM(view) \n",
    "                FROM counter\n",
    "                WHERE time LIKE '{time_date}%'\n",
    "                \"\"\")\n",
    "    st.write(f\"#### Total views today: **{cur.fetchone()[0]}**\")\n",
    "    # Previous views\n",
    "    st.divider()\n",
    "    views = st.checkbox(\"See Previous Views\")\n",
    "    # TODO: Total views today (Visualization)\n",
    "    if views:\n",
    "        st.write(\"**Previous Views**\")\n",
    "        cur.execute(\"\"\"\n",
    "                    SELECT * \n",
    "                    FROM counter\n",
    "                    ORDER BY time DESC\n",
    "                    \"\"\")\n",
    "        for _, _, time in cur.fetchall():\n",
    "            st.caption(f\"{time}\")\n",
    "\n",
    "    # Close Connection\n",
    "    cur.close()\n",
    "    con.close()\n",
    "#----------End of Counter----------#\n",
    "\n",
    "\n",
    "#----------External links---------#\n",
    "with st.expander(' :link: External Links'):\n",
    "    st.write(\":link: :computer: [Personal Website](https://)\")\n",
    "    st.write(\":link: :book: [Project Repository](https://)\")\n",
    "    st.write(\":link: :notebook: [Blog](https://)\")\n",
    "    st.write(\":link: :hand: [Connect with me](https://)\")\n",
    "#----------End of External links---------#\n",
    "\n",
    "#----------Agent Section----------#\n",
    "#----------Vertex AI----------#\n",
    "agent = st.checkbox(' :computer: Agent (Talk to my Intelligent Assistant :technologist:)')\n",
    "# agent = st.toggle(' :computer: Agent (Talk to my Intelligent Assistant :technologist:)')\n",
    "if agent:\n",
    "    vertexai.init(project=PROJECT_NAME, location=\"us-central1\")\n",
    "    parameters = {\n",
    "        \"candidate_count\": 1,\n",
    "        \"max_output_tokens\": 1024,\n",
    "        \"temperature\": 0.2,\n",
    "        \"top_p\": 0.8,\n",
    "        \"top_k\": 40\n",
    "    }\n",
    "    model = TextGenerationModel.from_pretrained(\"text-bison\")\n",
    "\n",
    "    # response = model.predict(\n",
    "    #    \"\"\"Hi\"\"\",\n",
    "    #    **parameters\n",
    "    # )\n",
    "    # st.write(f\"Response from Model: {response.text}\")\n",
    "\n",
    "    #----------End of Vertex AI----------#\n",
    "    import time\n",
    "    st.header(\":computer: Agent \",divider=\"rainbow\")\n",
    "    st.caption(\"### Chat with my agent\")\n",
    "    st.write(f\":violet[Your chat will be stored in a database, use the same name to see your past conversations.]\")\n",
    "    st.caption(\":warning: :red[Do not add sensitive data.]\")\n",
    "    \n",
    "    # Variable\n",
    "    database_name = DBNAME\n",
    "    # Connect to a database\n",
    "    con = psycopg2.connect(f\"\"\"\n",
    "                           dbname={DBNAME}\n",
    "                           user={USER}\n",
    "                           host={HOST}\n",
    "                           port={DBPORT}\n",
    "                           password={DBPASSWORD}\n",
    "                           \"\"\")\n",
    "    cur = con.cursor()\n",
    "    # Create a table if not exists\n",
    "    cur.execute(\"CREATE TABLE IF NOT EXISTS chats(id serial PRIMARY KEY, name varchar, prompt varchar, output varchar, time varchar)\")\n",
    "    con.commit()\n",
    "\n",
    "    # Prompt\n",
    "    input_name = st.text_input(\"Your Name:\")\n",
    "    agent = st.toggle(\"**Let's go**\")\n",
    "    if agent:\n",
    "        st.write(f\"Your name for this chat is :blue[{input_name}]\")\n",
    "        prompt = st.chat_input(\"Talk to my agent\")\n",
    "        if prompt:\n",
    "            time = time.strftime(\"Date: %Y-%m-%d | Time: %H:%M:%S UTC\")\n",
    "            message = st.chat_message(\"user\")\n",
    "            message.write(f\":blue[{input_name}]: {prompt}\")\n",
    "            message.caption(f\"{time}\")\n",
    "            message = st.chat_message(\"assistant\")\n",
    "            response = model.predict(prompt,\n",
    "                **parameters\n",
    "            )\n",
    "            output = response.text\n",
    "            message.write(output)\n",
    "            message.caption(f\"{time}\")\n",
    "            st.divider()\n",
    "\n",
    "            ### Insert into a database\n",
    "            SQL = \"INSERT INTO chats (name, prompt, output, time) VALUES(%s, %s, %s, %s);\"\n",
    "            data = (input_name, prompt, output, time)\n",
    "            cur.execute(SQL, data)\n",
    "            con.commit()\n",
    "\n",
    "\n",
    "        with st.expander(f\"See Previous Conversation for {input_name}\"):\n",
    "            cur.execute(f\"\"\"\n",
    "                        SELECT * \n",
    "                        FROM chats\n",
    "                        WHERE name='{input_name}'\n",
    "                        ORDER BY time ASC\n",
    "                        \"\"\")\n",
    "            for id, name, prompt, output, time in cur.fetchall():\n",
    "                message = st.chat_message(\"user\")\n",
    "                message.write(f\":blue[{name}]: {prompt}\")\n",
    "                message.caption(f\"{time}\")\n",
    "                message = st.chat_message(\"assistant\")\n",
    "                message.write(output)\n",
    "                message.caption(f\"{time}\")\n",
    "    # Close Connection\n",
    "    cur.close()\n",
    "    con.close()\n",
    "#----------End of Agent Section----------#\n",
    "\n",
    "# Close Connection\n",
    "cur.close()\n",
    "con.close()\n",
    "#----------End of Agent Section----------#"
   ]
  },
  {
   "cell_type": "code",
   "execution_count": null,
   "id": "53c19cdc-cf83-455f-8c88-ba85e1203615",
   "metadata": {},
   "outputs": [],
   "source": [
    "%%writefile Dockerfile\n",
    "FROM python\n",
    "WORKDIR /app\n",
    "RUN pip install streamlit psycopg2-binary google-cloud-aiplatform -q\n",
    "COPY . /app\n",
    "EXPOSE 9000\n",
    "CMD [\"streamlit\", \"run\", \"app.py\", \"--server.address\", \"0.0.0.0\", \"--server.port\", \"9000\"]"
   ]
  },
  {
   "cell_type": "markdown",
   "id": "808845d7-a980-4c05-85d5-877a034d6c06",
   "metadata": {
    "jp-MarkdownHeadingCollapsed": true,
    "tags": []
   },
   "source": [
    "### Building, Testing, and Releasing Stages"
   ]
  },
  {
   "cell_type": "code",
   "execution_count": null,
   "id": "c3d6043e-5ddb-4759-8dd8-19d6f47702f0",
   "metadata": {},
   "outputs": [],
   "source": [
    "# Enable Artifact Registry, Cloud Build, and Cloud Run, Vertex AI"
   ]
  },
  {
   "cell_type": "code",
   "execution_count": null,
   "id": "70844ce6-8c38-4e35-b95f-20ea60966316",
   "metadata": {
    "tags": []
   },
   "outputs": [],
   "source": [
    "# !gcloud services list --available"
   ]
  },
  {
   "cell_type": "code",
   "execution_count": null,
   "id": "03e877ae-3c70-483b-876a-c3c8871e6d6e",
   "metadata": {
    "tags": []
   },
   "outputs": [],
   "source": [
    "!gcloud services enable cloudbuild.googleapis.com artifactregistry.googleapis.com run.googleapis.com aiplatform.googleapis.com "
   ]
  },
  {
   "cell_type": "markdown",
   "id": "91e8246d-cf39-4ecc-b6bb-5750b6141dc7",
   "metadata": {},
   "source": [
    "#### Create an Artifact Registry"
   ]
  },
  {
   "cell_type": "code",
   "execution_count": null,
   "id": "39c997b1-cf08-445d-b665-037904e19dfd",
   "metadata": {
    "tags": []
   },
   "outputs": [],
   "source": [
    "import os\n",
    "# Environment Variables\n",
    "REGION=\"us-central1\"\n",
    "APP_ARTIFACT_NAME=\"app\"\n",
    "APP_NAME=\"app\"\n",
    "APP_VERSION=\"latest\"\n",
    "os.environ['REGION']=REGION\n",
    "os.environ[\"APP_ARTIFACT_NAME\"]=APP_ARTIFACT_NAME\n",
    "os.environ[\"APP_NAME\"]=APP_NAME\n",
    "os.environ[\"APP_VERSION\"]=APP_VERSION"
   ]
  },
  {
   "cell_type": "code",
   "execution_count": null,
   "id": "066363ba-174f-4326-ba5f-32b9aa1cb83b",
   "metadata": {
    "tags": []
   },
   "outputs": [],
   "source": [
    "%%sh\n",
    "# Create a Docker repository in Artifact Registry\n",
    "gcloud artifacts repositories create $APP_ARTIFACT_NAME \\\n",
    "    --repository-format=docker \\\n",
    "    --location=$REGION \\\n",
    "    --description=\"Docker repository\""
   ]
  },
  {
   "cell_type": "code",
   "execution_count": null,
   "id": "8df433d7-0029-475b-949c-46b86c856555",
   "metadata": {
    "tags": []
   },
   "outputs": [],
   "source": [
    "%%sh\n",
    "# Verify\n",
    "gcloud artifacts repositories list"
   ]
  },
  {
   "cell_type": "markdown",
   "id": "4d8aec12-f0ef-46e5-872c-3079e8e6625c",
   "metadata": {
    "tags": []
   },
   "source": [
    "#### Build an image using Dockerfile and submit to Artifact Registry"
   ]
  },
  {
   "cell_type": "code",
   "execution_count": null,
   "id": "5fd34ee7-dbb9-44c2-825d-e7b500f8e448",
   "metadata": {
    "tags": []
   },
   "outputs": [],
   "source": [
    "# Check if the path is correct\n",
    "!pwd"
   ]
  },
  {
   "cell_type": "code",
   "execution_count": null,
   "id": "c2a65795-6a7e-415a-8d40-e0fa6711a7d5",
   "metadata": {
    "tags": []
   },
   "outputs": [],
   "source": [
    "cd app"
   ]
  },
  {
   "cell_type": "code",
   "execution_count": null,
   "id": "5c1b8650-2ed9-452c-baf1-c596faeba424",
   "metadata": {
    "tags": []
   },
   "outputs": [],
   "source": [
    "!gcloud builds submit \\\n",
    "    --region=$REGION \\\n",
    "    --tag $REGION-docker.pkg.dev/$(gcloud config get-value project)/$APP_NAME/$APP_NAME:$APP_VERSION"
   ]
  },
  {
   "cell_type": "markdown",
   "id": "5fd5b21b-78d9-47a0-8628-11b557fad08d",
   "metadata": {
    "jp-MarkdownHeadingCollapsed": true,
    "tags": []
   },
   "source": [
    "### Deploying Stage"
   ]
  },
  {
   "cell_type": "markdown",
   "id": "f51be969-5ebc-4783-8c14-f824e7947733",
   "metadata": {
    "jp-MarkdownHeadingCollapsed": true,
    "tags": []
   },
   "source": [
    "#### Deploy using the console"
   ]
  },
  {
   "cell_type": "markdown",
   "id": "aea92400-c39e-4c22-bfd4-e544d1b2000a",
   "metadata": {
    "tags": []
   },
   "source": [
    "#### Deploy using cli"
   ]
  },
  {
   "cell_type": "code",
   "execution_count": null,
   "id": "c72ac282-309d-4c82-a290-9ab8181a757f",
   "metadata": {},
   "outputs": [],
   "source": [
    "# For Cloud Run Deploy, use a Service Account with Cloud Run Admin or Cloud Run Developer\n",
    "# For Clou Run Deployed Add (Service), use a Service Account with Vertex AI User"
   ]
  },
  {
   "cell_type": "code",
   "execution_count": null,
   "id": "80d600d3-d284-46c6-bf50-f6a9fb390218",
   "metadata": {
    "tags": []
   },
   "outputs": [],
   "source": [
    "%%writefile ~/ci-cd-gcp/files/env.yaml\n",
    "DBNAME:\n",
    "    \"matt\"\n",
    "USER:\n",
    "    \"matt\"\n",
    "HOST:\n",
    "    \"\"\n",
    "DBPORT:\n",
    "    \"5000\"\n",
    "DBPASSWORD:\n",
    "    \"password\"\n",
    "PROJECT_NAME:\n",
    "    \"\""
   ]
  },
  {
   "cell_type": "code",
   "execution_count": null,
   "id": "5347c8c7-d4bb-4bef-a453-a7baf9be2bd3",
   "metadata": {
    "tags": []
   },
   "outputs": [],
   "source": [
    "cd ~/ci-cd-gcp/files"
   ]
  },
  {
   "cell_type": "code",
   "execution_count": null,
   "id": "a6a8631b-3724-4440-af2b-098b62402000",
   "metadata": {
    "tags": []
   },
   "outputs": [],
   "source": [
    "!gcloud run deploy app-cli \\\n",
    "    --max-instances=1 --min-instances=0 --port=9000 \\\n",
    "    --env-vars-file=env.yaml \\\n",
    "    --image=us-central1-docker.pkg.dev/matt-0706/app/app:latest \\\n",
    "    --allow-unauthenticated \\\n",
    "    --region=us-central1"
   ]
  },
  {
   "cell_type": "code",
   "execution_count": null,
   "id": "9df3d186-e3d7-4b69-acb0-353a0a14fd9d",
   "metadata": {
    "tags": []
   },
   "outputs": [],
   "source": [
    "!gcloud run services list"
   ]
  }
 ],
 "metadata": {
  "environment": {
   "kernel": "python3",
   "name": "tf2-cpu.2-11.m113",
   "type": "gcloud",
   "uri": "gcr.io/deeplearning-platform-release/tf2-cpu.2-11:m113"
  },
  "kernelspec": {
   "display_name": "Python 3",
   "language": "python",
   "name": "python3"
  },
  "language_info": {
   "codemirror_mode": {
    "name": "ipython",
    "version": 3
   },
   "file_extension": ".py",
   "mimetype": "text/x-python",
   "name": "python",
   "nbconvert_exporter": "python",
   "pygments_lexer": "ipython3",
   "version": "3.10.13"
  }
 },
 "nbformat": 4,
 "nbformat_minor": 5
}
