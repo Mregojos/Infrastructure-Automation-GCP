{
 "cells": [
  {
   "cell_type": "markdown",
   "id": "9388ea54-a143-4459-800a-698d79881ae6",
   "metadata": {},
   "source": [
    "### Sample-2\n",
    "\n",
    "Reference: terraform.io/docs"
   ]
  },
  {
   "cell_type": "code",
   "execution_count": null,
   "id": "aa98f006-f85e-48e5-8ccf-85f9f5d38384",
   "metadata": {},
   "outputs": [],
   "source": []
  }
 ],
 "metadata": {
  "environment": {
   "kernel": "python3",
   "name": "tf2-cpu.2-11.m112",
   "type": "gcloud",
   "uri": "gcr.io/deeplearning-platform-release/tf2-cpu.2-11:m112"
  },
  "kernelspec": {
   "display_name": "Python 3",
   "language": "python",
   "name": "python3"
  },
  "language_info": {
   "codemirror_mode": {
    "name": "ipython",
    "version": 3
   },
   "file_extension": ".py",
   "mimetype": "text/x-python",
   "name": "python",
   "nbconvert_exporter": "python",
   "pygments_lexer": "ipython3",
   "version": "3.10.12"
  }
 },
 "nbformat": 4,
 "nbformat_minor": 5
}
