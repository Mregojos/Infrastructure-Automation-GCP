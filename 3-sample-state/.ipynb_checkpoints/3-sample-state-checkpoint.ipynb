{
 "cells": [
  {
   "cell_type": "markdown",
   "id": "fc9876c6-ea7d-41e7-a273-bc7ee0b06acb",
   "metadata": {},
   "source": [
    "# 3 Sample State\n",
    "\n",
    "Reference: cloud.google.com/docs"
   ]
  },
  {
   "cell_type": "code",
   "execution_count": null,
   "id": "148bfd10-7f85-4400-bffb-67082565d5ec",
   "metadata": {},
   "outputs": [],
   "source": []
  }
 ],
 "metadata": {
  "environment": {
   "kernel": "python3",
   "name": "tf2-cpu.2-11.m112",
   "type": "gcloud",
   "uri": "gcr.io/deeplearning-platform-release/tf2-cpu.2-11:m112"
  },
  "kernelspec": {
   "display_name": "Python 3",
   "language": "python",
   "name": "python3"
  },
  "language_info": {
   "codemirror_mode": {
    "name": "ipython",
    "version": 3
   },
   "file_extension": ".py",
   "mimetype": "text/x-python",
   "name": "python",
   "nbconvert_exporter": "python",
   "pygments_lexer": "ipython3",
   "version": "3.10.12"
  }
 },
 "nbformat": 4,
 "nbformat_minor": 5
}
